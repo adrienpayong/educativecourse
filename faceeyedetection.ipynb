{
 "cells": [
  {
   "cell_type": "code",
   "execution_count": 1,
   "id": "de8dbb47",
   "metadata": {},
   "outputs": [],
   "source": [
    "import cv2 as cv\n",
    "import os\n",
    "\n",
    "\n",
    "def detectAndDisplay(frame, face_cascade, eyes_cascade):\n",
    "    \"\"\"Convert to gray,uses face cascase and eye cascade pretrained haar cascade to detect eyes and faces\"\"\"\n",
    "    frame_gray = cv.cvtColor(frame, cv.COLOR_BGR2GRAY)\n",
    "    frame_gray = cv.equalizeHist(frame_gray)\n",
    "    # -- Detect faces\n",
    "    faces = face_cascade.detectMultiScale(frame_gray)\n",
    "    for (x, y, w, h) in faces:\n",
    "        center = (x + w // 2, y + h // 2)\n",
    "        frame = cv.ellipse(frame, center, (w // 2, h // 2), 0, 0, 360, (255, 0, 255), 4)\n",
    "        faceROI = frame_gray[y:y + h, x:x + w]\n",
    "        # -- In each face, detect eyes\n",
    "        eyes = eyes_cascade.detectMultiScale(faceROI)\n",
    "        for (x2, y2, w2, h2) in eyes:\n",
    "            eye_center = (x + x2 + w2 // 2, y + y2 + h2 // 2)\n",
    "            radius = int(round((w2 + h2) * 0.25))\n",
    "            frame = cv.circle(frame, eye_center, radius, (255, 0, 0), 4)\n",
    "    cv.imshow('Capture - Face detection', frame)\n",
    "\n",
    "\n",
    "def detect():\n",
    "    eyes_cascade_name = os.path.join(\"haarcascade_eye.xml\")\n",
    "    face_cascade_name = os.path.join(\"haarcascade_frontalface_default.xml\")\n",
    "\n",
    "    face_cascade = cv.CascadeClassifier()\n",
    "    eyes_cascade = cv.CascadeClassifier()\n",
    "\n",
    "    if not face_cascade.load(cv.samples.findFile(face_cascade_name)):\n",
    "        print('--(!)Error loading face cascade')\n",
    "        exit(0)\n",
    "    if not eyes_cascade.load(cv.samples.findFile(eyes_cascade_name)):\n",
    "        print('--(!)Error loading eyes cascade')\n",
    "        exit(0)\n",
    "\n",
    "    # -- 2. Read the video stream\n",
    "    cap = cv.VideoCapture(0)\n",
    "    if not cap.isOpened:\n",
    "        print('--(!)Error opening video capture')\n",
    "        exit(0)\n",
    "    while True:\n",
    "        ret, frame = cap.read()\n",
    "        if frame is None:\n",
    "            print('--(!) No captured frame -- Break!')\n",
    "            break\n",
    "        detectAndDisplay(frame, face_cascade, eyes_cascade)\n",
    "        if cv.waitKey(10) == 27:\n",
    "            break\n"
   ]
  },
  {
   "cell_type": "code",
   "execution_count": 2,
   "id": "fb39a044",
   "metadata": {},
   "outputs": [
    {
     "name": "stdout",
     "output_type": "stream",
     "text": [
      "--(!) No captured frame -- Break!\n"
     ]
    }
   ],
   "source": [
    "# face-eye detection\n",
    "face_detection_obj = detect()"
   ]
  },
  {
   "cell_type": "code",
   "execution_count": null,
   "id": "13a040cb",
   "metadata": {},
   "outputs": [],
   "source": []
  }
 ],
 "metadata": {
  "kernelspec": {
   "display_name": "Python 3",
   "language": "python",
   "name": "python3"
  },
  "language_info": {
   "codemirror_mode": {
    "name": "ipython",
    "version": 3
   },
   "file_extension": ".py",
   "mimetype": "text/x-python",
   "name": "python",
   "nbconvert_exporter": "python",
   "pygments_lexer": "ipython3",
   "version": "3.8.8"
  }
 },
 "nbformat": 4,
 "nbformat_minor": 5
}
