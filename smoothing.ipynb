{
  "nbformat": 4,
  "nbformat_minor": 0,
  "metadata": {
    "colab": {
      "name": "Untitled116.ipynb",
      "provenance": [],
      "authorship_tag": "ABX9TyNZ2iH/JHb2J95LJ5hWx/8u",
      "include_colab_link": true
    },
    "kernelspec": {
      "name": "python3",
      "display_name": "Python 3"
    },
    "language_info": {
      "name": "python"
    }
  },
  "cells": [
    {
      "cell_type": "markdown",
      "metadata": {
        "id": "view-in-github",
        "colab_type": "text"
      },
      "source": [
        "<a href=\"https://colab.research.google.com/github/adrienpayong/educativecourse/blob/main/smoothing.ipynb\" target=\"_parent\"><img src=\"https://colab.research.google.com/assets/colab-badge.svg\" alt=\"Open In Colab\"/></a>"
      ]
    },
    {
      "cell_type": "code",
      "metadata": {
        "id": "cSeHJ0dLI2xV"
      },
      "source": [
        "import cv2\n",
        "import numpy as np\n",
        "import os\n",
        "\n",
        "\n",
        "class Smoothing:\n",
        "    def __init__(self, path):\n",
        "        self.image_path = path\n",
        "        self.image = cv2.imread(self.image_path)\n",
        "\n",
        "    def averaging_numpy(self):\n",
        "        \"\"\"this is the numpy implementation of average blur using open cv\"\"\"\n",
        "        kernel = np.ones((5, 5), np.float32) / 25\n",
        "        dst = cv2.filter2D(self.image, -1, kernel)\n",
        "\n",
        "        cv2.imwrite(os.path.join(\"original.jpg\"), self.image)\n",
        "        cv2.imwrite(os.path.join(\"averaged_numpy.jpg\"), dst)\n",
        "\n",
        "    def average_bluring(self):\n",
        "        blur = cv2.blur(self.image, (5, 5))\n",
        "        cv2.imwrite(os.path.join(\"original.jpg\"), self.image)\n",
        "        cv2.imwrite(os.path.join(\"averaged_blur.jpg\"), blur)\n",
        "\n",
        "    def gaussian_blur(self):\n",
        "        \"\"\"instead of box kernel, gaussian kernel is used\"\"\"\n",
        "        \"\"\" width and height of the kernel which should be positive and odd. \"\"\"\n",
        "        \"\"\"sigmaX and sigmaY respectively. If only sigmaX is specified, sigmaY is taken as the same as sigmaX. If \n",
        "        both are given as zeros, they are calculated from the kernel size \"\"\"\n",
        "\n",
        "        blur = cv2.GaussianBlur(self.image, (5, 5), 0)\n",
        "        cv2.imwrite(os.path.join(\"original.jpg\"), self.image)\n",
        "        cv2.imwrite(os.path.join(\"gaussian_blur.jpg\"), blur)\n",
        "\n",
        "    def median_blur(self):\n",
        "        \"\"\" median of all the pixels under the kernel area and the central element is replaced with this median value\"\"\"\n",
        "        \"\"\"highly effective in salt and pepper noise\"\"\"\n",
        "        \"\"\"Kernel size should be odd number\"\"\"\n",
        "\n",
        "        median = cv2.medianBlur(self.image, 5)\n",
        "        cv2.imwrite(os.path.join(\"original.jpg\"), self.image)\n",
        "        cv2.imwrite(os.path.join(\"median_blur.jpg\"), median)\n",
        "\n",
        "    def bilateral_blur(self):\n",
        "        \"\"\"highly effective in noise removal while keeping edges sharp\"\"\"\n",
        "        \"\"\"Gaussian blurs the edges also,bilateral doesn't ,this is why it is kind of slow to gaussian\"\"\"\n",
        "        \"\"\"\n",
        "        d: diameter of each pixel neighborhood that is used during filtering \n",
        "        sigmaColor: Filter sigma in the color \n",
        "            space. A larger value of the parameter means that farther colors within the pixel neighborhood .\n",
        "        sigmaSpace:Filter sigma in the coordinate space. A larger value of the parameter means that farther pixels \n",
        "            will influence each other as long as their colors are close enough \"\"\"\n",
        "\n",
        "        blur = cv2.bilateralFilter(self.image, 9, 75, 75)\n",
        "        cv2.imwrite(os.path.join(\"original.jpg\"), self.image)\n",
        "        cv2.imwrite(os.path.join(\"bilateral_blur.jpg\"), blur)\n",
        "\n"
      ],
      "execution_count": 20,
      "outputs": []
    },
    {
      "cell_type": "code",
      "metadata": {
        "id": "eDVQQw7MJYvg"
      },
      "source": [
        "# smoothing images\n",
        "image_path_src = os.path.join(\"test.jpg\")\n",
        "smoothing_object = Smoothing(image_path_src)\n",
        "smoothing_object.averaging_numpy()\n",
        "smoothing_object.median_blur()\n",
        "smoothing_object.gaussian_blur()\n",
        "smoothing_object.bilateral_blur()\n",
        "smoothing_object.average_bluring()"
      ],
      "execution_count": 21,
      "outputs": []
    }
  ]
}