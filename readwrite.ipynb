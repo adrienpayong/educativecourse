{
 "cells": [
  {
   "cell_type": "code",
   "execution_count": null,
   "id": "118fa825",
   "metadata": {},
   "outputs": [],
   "source": [
    "import cv2\n",
    "import sys\n",
    "import os\n",
    "\n",
    "\n",
    "\n",
    "class ReadWriteDisplay:\n",
    "    def __init__(self, image_path):\n",
    "        self.image_path = image_path\n",
    "\n",
    "    def read(self, ):\n",
    "        \"\"\" cv2.imread takes a image path to be read\"\"\"\n",
    "        image = cv2.imread(self.image_path)\n",
    "        shape = image.shape\n",
    "        # shape goes by : (rows,cols,channels)\n",
    "        print(\"Shape of the image:\", shape)\n",
    "\n",
    "        \"\"\" reading image with flags\"\"\"\n",
    "        # cv2.IMREAD_COLOR (default) ,cv2.IMREAD_GRAYSCALE (0) and cv2.IMREAD_UNCHANGED(-1)\n",
    "\n",
    "        grayscale = cv2.imread(self.image_path, 0)\n",
    "        # shape goes by : (rows,cols,channels)\n",
    "        shape = grayscale.shape\n",
    "        print(\"Shape of the grayscale image:\", shape)\n",
    "\n",
    "    def write(self):\n",
    "        image = cv2.imread(self.image_path)\n",
    "        if image is None:\n",
    "            sys.exit(\"Could not read the image.\")\n",
    "        cv2.imwrite(os.path.join(\"write_output.jpg\"), image)\n",
    "\n",
    "    def show(self):\n",
    "        image = cv2.imread(self.image_path)\n",
    "        cv2.imshow(\"Display\", image)\n",
    "        if cv2.waitKey(0) & 0xff == 27:\n",
    "            cv2.destroyAllWindows()\n"
   ]
  },
  {
   "cell_type": "code",
   "execution_count": null,
   "id": "065f0bd6",
   "metadata": {},
   "outputs": [],
   "source": [
    "# reading and writing images\n",
    "image_path = os.path.join(\"test.jpg\")\n",
    "read_write_obj = ReadWriteDisplay(image_path)\n",
    "read_write_obj.show()\n",
    "read_write_obj.read()\n",
    "read_write_obj.write()"
   ]
  },
  {
   "cell_type": "code",
   "execution_count": null,
   "id": "a89c6482",
   "metadata": {},
   "outputs": [],
   "source": [
    "import matplotlib.pyplot as plt\n",
    "def plt_imshow(image):\n",
    "\t# convert the image frame BGR to RGB color space and display it\n",
    "\timage = cv2.cvtColor(image, cv2.COLOR_BGR2RGB)\n",
    "\tplt.imshow(image)\n",
    "\tplt.grid(False)\n",
    "\tplt.show()"
   ]
  },
  {
   "cell_type": "code",
   "execution_count": null,
   "id": "e2dc8461",
   "metadata": {},
   "outputs": [],
   "source": [
    "image0 = cv2.imread(\"test.jpg\")\n",
    "image1 = cv2.imread(\"write_output.jpg\")\n"
   ]
  },
  {
   "cell_type": "code",
   "execution_count": null,
   "id": "13a1bffd",
   "metadata": {},
   "outputs": [],
   "source": [
    "\n",
    "plt_imshow(write_output.jpg)"
   ]
  },
  {
   "cell_type": "code",
   "execution_count": null,
   "id": "27fa5238",
   "metadata": {},
   "outputs": [],
   "source": []
  }
 ],
 "metadata": {
  "kernelspec": {
   "display_name": "Python 3",
   "language": "python",
   "name": "python3"
  },
  "language_info": {
   "codemirror_mode": {
    "name": "ipython",
    "version": 3
   },
   "file_extension": ".py",
   "mimetype": "text/x-python",
   "name": "python",
   "nbconvert_exporter": "python",
   "pygments_lexer": "ipython3",
   "version": "3.8.8"
  }
 },
 "nbformat": 4,
 "nbformat_minor": 5
}
