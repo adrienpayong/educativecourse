{
 "cells": [
  {
   "cell_type": "code",
   "execution_count": 6,
   "id": "62deffbc",
   "metadata": {},
   "outputs": [],
   "source": [
    "import cv2\n",
    "import numpy as np\n",
    "import os\n",
    "\n",
    "\n",
    "def check_color_spaces():\n",
    "    flags = [i for i in dir(cv2) if i.startswith('COLOR_')]\n",
    "    print(flags)\n",
    "\n",
    "\n",
    "class ColorSpaces:\n",
    "    \"\"\"mainly we tend to convert from BGR->Gray and BGR-> HSV\"\"\"\n",
    "    \"\"\"if you want to see all of the color spaces, please run check_color_spaces\"\"\"\n",
    "\n",
    "    def __init__(self, path):\n",
    "        self.image_path = path\n",
    "        self.image = cv2.imread(self.image_path)\n",
    "\n",
    "    def convert_bgr_hsv(self):\n",
    "        \"\"\"converts bgr image to hsv\"\"\"\n",
    "        hsv = cv2.cvtColor(self.image, cv2.COLOR_BGR2HSV)\n",
    "        cv2.imwrite(os.path.join(output_folder, \"bgr2hsv.jpg\"), hsv)\n",
    "\n",
    "    def convert_bgr_gray(self):\n",
    "        \"\"\"converts bgr image to gray\"\"\"\n",
    "\n",
    "        gray = cv2.cvtColor(self.image, cv2.COLOR_BGR2GRAY)\n",
    "        cv2.imwrite(os.path.join(\"bgr2gray.jpg\"), gray)\n",
    "\n",
    "    def track_blue(self):\n",
    "        \"\"\"tracks blue color,first convert into hsv and then we go bitwise and to detect the blue\"\"\"\n",
    "        hsv = cv2.cvtColor(self.image, cv2.COLOR_BGR2HSV)\n",
    "\n",
    "        lower_blue = np.array([25, 50, 50])\n",
    "        upper_blue = np.array([130, 255, 255])\n",
    "\n",
    "        # Threshold the HSV image to get only blue colors\n",
    "        mask = cv2.inRange(hsv, lower_blue, upper_blue)\n",
    "        # Bitwise-AND mask and original image\n",
    "        res = cv2.bitwise_and(self.image, self.image, mask=mask)\n",
    "        cv2.imwrite(os.path.join(\"detected_blue.jpg\"), res)"
   ]
  },
  {
   "cell_type": "code",
   "execution_count": 7,
   "id": "1a9e224f",
   "metadata": {},
   "outputs": [
    {
     "ename": "NameError",
     "evalue": "name 'output_folder' is not defined",
     "output_type": "error",
     "traceback": [
      "\u001b[1;31m---------------------------------------------------------------------------\u001b[0m",
      "\u001b[1;31mNameError\u001b[0m                                 Traceback (most recent call last)",
      "\u001b[1;32m<ipython-input-7-53e01e388d5f>\u001b[0m in \u001b[0;36m<module>\u001b[1;34m\u001b[0m\n\u001b[0;32m      5\u001b[0m \u001b[0mcolor_spaces_obj\u001b[0m \u001b[1;33m=\u001b[0m \u001b[0mColorSpaces\u001b[0m\u001b[1;33m(\u001b[0m\u001b[0mimage_path_src\u001b[0m\u001b[1;33m)\u001b[0m\u001b[1;33m\u001b[0m\u001b[1;33m\u001b[0m\u001b[0m\n\u001b[0;32m      6\u001b[0m \u001b[0mcolor_spaces_obj\u001b[0m\u001b[1;33m.\u001b[0m\u001b[0mconvert_bgr_gray\u001b[0m\u001b[1;33m(\u001b[0m\u001b[1;33m)\u001b[0m\u001b[1;33m\u001b[0m\u001b[1;33m\u001b[0m\u001b[0m\n\u001b[1;32m----> 7\u001b[1;33m \u001b[0mcolor_spaces_obj\u001b[0m\u001b[1;33m.\u001b[0m\u001b[0mconvert_bgr_hsv\u001b[0m\u001b[1;33m(\u001b[0m\u001b[1;33m)\u001b[0m\u001b[1;33m\u001b[0m\u001b[1;33m\u001b[0m\u001b[0m\n\u001b[0m\u001b[0;32m      8\u001b[0m \u001b[0mcolor_spaces_obj\u001b[0m\u001b[1;33m.\u001b[0m\u001b[0mtrack_blue\u001b[0m\u001b[1;33m(\u001b[0m\u001b[1;33m)\u001b[0m\u001b[1;33m\u001b[0m\u001b[1;33m\u001b[0m\u001b[0m\n",
      "\u001b[1;32m<ipython-input-6-5cfdeff0aa2f>\u001b[0m in \u001b[0;36mconvert_bgr_hsv\u001b[1;34m(self)\u001b[0m\n\u001b[0;32m     20\u001b[0m         \u001b[1;34m\"\"\"converts bgr image to hsv\"\"\"\u001b[0m\u001b[1;33m\u001b[0m\u001b[1;33m\u001b[0m\u001b[0m\n\u001b[0;32m     21\u001b[0m         \u001b[0mhsv\u001b[0m \u001b[1;33m=\u001b[0m \u001b[0mcv2\u001b[0m\u001b[1;33m.\u001b[0m\u001b[0mcvtColor\u001b[0m\u001b[1;33m(\u001b[0m\u001b[0mself\u001b[0m\u001b[1;33m.\u001b[0m\u001b[0mimage\u001b[0m\u001b[1;33m,\u001b[0m \u001b[0mcv2\u001b[0m\u001b[1;33m.\u001b[0m\u001b[0mCOLOR_BGR2HSV\u001b[0m\u001b[1;33m)\u001b[0m\u001b[1;33m\u001b[0m\u001b[1;33m\u001b[0m\u001b[0m\n\u001b[1;32m---> 22\u001b[1;33m         \u001b[0mcv2\u001b[0m\u001b[1;33m.\u001b[0m\u001b[0mimwrite\u001b[0m\u001b[1;33m(\u001b[0m\u001b[0mos\u001b[0m\u001b[1;33m.\u001b[0m\u001b[0mpath\u001b[0m\u001b[1;33m.\u001b[0m\u001b[0mjoin\u001b[0m\u001b[1;33m(\u001b[0m\u001b[0moutput_folder\u001b[0m\u001b[1;33m,\u001b[0m \u001b[1;34m\"bgr2hsv.jpg\"\u001b[0m\u001b[1;33m)\u001b[0m\u001b[1;33m,\u001b[0m \u001b[0mhsv\u001b[0m\u001b[1;33m)\u001b[0m\u001b[1;33m\u001b[0m\u001b[1;33m\u001b[0m\u001b[0m\n\u001b[0m\u001b[0;32m     23\u001b[0m \u001b[1;33m\u001b[0m\u001b[0m\n\u001b[0;32m     24\u001b[0m     \u001b[1;32mdef\u001b[0m \u001b[0mconvert_bgr_gray\u001b[0m\u001b[1;33m(\u001b[0m\u001b[0mself\u001b[0m\u001b[1;33m)\u001b[0m\u001b[1;33m:\u001b[0m\u001b[1;33m\u001b[0m\u001b[1;33m\u001b[0m\u001b[0m\n",
      "\u001b[1;31mNameError\u001b[0m: name 'output_folder' is not defined"
     ]
    }
   ],
   "source": [
    "# # color spaces and changing color spaces\n",
    "# # check all color spaces\n",
    "# check_color_spaces()\n",
    "image_path_src = os.path.join(\"blue_cap.jpg\")\n",
    "color_spaces_obj = ColorSpaces(image_path_src)\n",
    "color_spaces_obj.convert_bgr_gray()\n",
    "color_spaces_obj.convert_bgr_hsv()\n",
    "color_spaces_obj.track_blue()"
   ]
  },
  {
   "cell_type": "code",
   "execution_count": null,
   "id": "fd8e5b37",
   "metadata": {},
   "outputs": [],
   "source": []
  }
 ],
 "metadata": {
  "kernelspec": {
   "display_name": "Python 3",
   "language": "python",
   "name": "python3"
  },
  "language_info": {
   "codemirror_mode": {
    "name": "ipython",
    "version": 3
   },
   "file_extension": ".py",
   "mimetype": "text/x-python",
   "name": "python",
   "nbconvert_exporter": "python",
   "pygments_lexer": "ipython3",
   "version": "3.8.8"
  }
 },
 "nbformat": 4,
 "nbformat_minor": 5
}
