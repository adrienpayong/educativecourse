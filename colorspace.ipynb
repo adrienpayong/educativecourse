{
 "cells": [
  {
   "cell_type": "code",
   "execution_count": 10,
   "id": "a482d5d1",
   "metadata": {},
   "outputs": [],
   "source": [
    "import cv2\n",
    "import numpy as np\n",
    "import os\n",
    "\n",
    "\n",
    "def check_color_spaces():\n",
    "    flags = [i for i in dir(cv2) if i.startswith('COLOR_')]\n",
    "    print(flags)\n",
    "\n",
    "\n",
    "class ColorSpaces:\n",
    "    \"\"\"mainly we tend to convert from BGR->Gray and BGR-> HSV\"\"\"\n",
    "    \"\"\"if you want to see all of the color spaces, please run check_color_spaces\"\"\"\n",
    "\n",
    "    def __init__(self, path):\n",
    "        self.image_path = path\n",
    "        self.image = cv2.imread(self.image_path)\n",
    "\n",
    "    def convert_bgr_hsv(self):\n",
    "        \"\"\"converts bgr image to hsv\"\"\"\n",
    "        hsv = cv2.cvtColor(self.image, cv2.COLOR_BGR2HSV)\n",
    "        cv2.imwrite(os.path.join(\"bgr2hsv.jpg\"), hsv)\n",
    "\n",
    "    def convert_bgr_gray(self):\n",
    "        \"\"\"converts bgr image to gray\"\"\"\n",
    "\n",
    "        gray = cv2.cvtColor(self.image, cv2.COLOR_BGR2GRAY)\n",
    "        cv2.imwrite(os.path.join(\"bgr2gray.jpg\"), gray)\n",
    "\n",
    "    def track_blue(self):\n",
    "        \"\"\"tracks blue color,first convert into hsv and then we go bitwise and to detect the blue\"\"\"\n",
    "        hsv = cv2.cvtColor(self.image, cv2.COLOR_BGR2HSV)\n",
    "\n",
    "        lower_blue = np.array([25, 50, 50])\n",
    "        upper_blue = np.array([130, 255, 255])\n",
    "\n",
    "        # Threshold the HSV image to get only blue colors\n",
    "        mask = cv2.inRange(hsv, lower_blue, upper_blue)\n",
    "        # Bitwise-AND mask and original image\n",
    "        res = cv2.bitwise_and(self.image, self.image, mask=mask)\n",
    "        cv2.imwrite(os.path.join(\"detected_blue.jpg\"), res)"
   ]
  },
  {
   "cell_type": "code",
   "execution_count": 11,
   "id": "ab562885",
   "metadata": {},
   "outputs": [],
   "source": [
    "# # color spaces and changing color spaces\n",
    "# # check all color spaces\n",
    "# check_color_spaces()\n",
    "image_path_src = os.path.join(\"blue_cap.jpg\")\n",
    "color_spaces_obj = ColorSpaces(image_path_src)\n",
    "color_spaces_obj.convert_bgr_gray()\n",
    "color_spaces_obj.convert_bgr_hsv()\n",
    "color_spaces_obj.track_blue()"
   ]
  },
  {
   "cell_type": "code",
   "execution_count": 12,
   "id": "b7e97ebc",
   "metadata": {},
   "outputs": [],
   "source": [
    "import matplotlib.pyplot as plt\n",
    "def plt_imshow(image):\n",
    "\t# convert the image frame BGR to RGB color space and display it\n",
    "\timage = cv2.cvtColor(image, cv2.COLOR_BGR2RGB)\n",
    "\tplt.imshow(image)\n",
    "\tplt.grid(False)\n",
    "\tplt.show()"
   ]
  },
  {
   "cell_type": "code",
   "execution_count": 16,
   "id": "2d6e1e43",
   "metadata": {},
   "outputs": [],
   "source": [
    "image0 = cv2.imread(\"blue_cap.jpg\")\n",
    "image1 = cv2.imread(\"detected_blue.jpg\")\n",
    "image2 = cv2.imread(\"bgr2gray.jpg\")\n",
    "image3 = cv2.imread(\"bgr2hsv.jpg\")"
   ]
  },
  {
   "cell_type": "code",
   "execution_count": 17,
   "id": "e9f56b8a",
   "metadata": {},
   "outputs": [
    {
     "ename": "NameError",
     "evalue": "name 'blue_cap' is not defined",
     "output_type": "error",
     "traceback": [
      "\u001b[1;31m---------------------------------------------------------------------------\u001b[0m",
      "\u001b[1;31mNameError\u001b[0m                                 Traceback (most recent call last)",
      "\u001b[1;32m<ipython-input-17-0ccdd52957ce>\u001b[0m in \u001b[0;36m<module>\u001b[1;34m\u001b[0m\n\u001b[1;32m----> 1\u001b[1;33m \u001b[0mplt_imshow\u001b[0m\u001b[1;33m(\u001b[0m\u001b[0mblue_cap\u001b[0m\u001b[1;33m.\u001b[0m\u001b[0mjpg\u001b[0m\u001b[1;33m)\u001b[0m\u001b[1;33m\u001b[0m\u001b[1;33m\u001b[0m\u001b[0m\n\u001b[0m\u001b[0;32m      2\u001b[0m \u001b[0mplt_imshow\u001b[0m\u001b[1;33m(\u001b[0m\u001b[0mdetected_blue\u001b[0m\u001b[1;33m.\u001b[0m\u001b[0mjpg\u001b[0m\u001b[1;33m)\u001b[0m\u001b[1;33m\u001b[0m\u001b[1;33m\u001b[0m\u001b[0m\n\u001b[0;32m      3\u001b[0m \u001b[0mplt_imshow\u001b[0m\u001b[1;33m(\u001b[0m\u001b[0mbgr2gray\u001b[0m\u001b[1;33m.\u001b[0m\u001b[0mjpg\u001b[0m\u001b[1;33m)\u001b[0m\u001b[1;33m\u001b[0m\u001b[1;33m\u001b[0m\u001b[0m\n\u001b[0;32m      4\u001b[0m \u001b[0mplt_imshow\u001b[0m\u001b[1;33m(\u001b[0m\u001b[0mbgr2hsv\u001b[0m\u001b[1;33m.\u001b[0m\u001b[0mjpg\u001b[0m\u001b[1;33m)\u001b[0m\u001b[1;33m\u001b[0m\u001b[1;33m\u001b[0m\u001b[0m\n",
      "\u001b[1;31mNameError\u001b[0m: name 'blue_cap' is not defined"
     ]
    }
   ],
   "source": [
    "plt_imshow(image0)\n",
    "plt_imshow(image1)\n",
    "plt_imshow(image2)\n",
    "plt_imshow(image0)"
   ]
  },
  {
   "cell_type": "code",
   "execution_count": null,
   "id": "ecf3c46a",
   "metadata": {},
   "outputs": [],
   "source": []
  },
  {
   "cell_type": "code",
   "execution_count": null,
   "id": "443f3078",
   "metadata": {},
   "outputs": [],
   "source": []
  },
  {
   "cell_type": "code",
   "execution_count": null,
   "id": "f965acef",
   "metadata": {},
   "outputs": [],
   "source": []
  }
 ],
 "metadata": {
  "kernelspec": {
   "display_name": "Python 3",
   "language": "python",
   "name": "python3"
  },
  "language_info": {
   "codemirror_mode": {
    "name": "ipython",
    "version": 3
   },
   "file_extension": ".py",
   "mimetype": "text/x-python",
   "name": "python",
   "nbconvert_exporter": "python",
   "pygments_lexer": "ipython3",
   "version": "3.8.8"
  }
 },
 "nbformat": 4,
 "nbformat_minor": 5
}
