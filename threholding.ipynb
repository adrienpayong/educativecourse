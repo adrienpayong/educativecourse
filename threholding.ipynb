{
 "cells": [
  {
   "cell_type": "code",
   "execution_count": 6,
   "id": "cd10db43",
   "metadata": {},
   "outputs": [],
   "source": [
    "import cv2\n",
    "import os\n",
    "\n",
    "\n",
    "class Thresholding:\n",
    "    def __init__(self, path):\n",
    "        self.image_path = path\n",
    "        self.image = cv2.imread(self.image_path, 0)\n",
    "\n",
    "    def simple_thres(self):\n",
    "        \"\"\"If the pixel value is smaller than the threshold, it is set to 0, otherwise it is set to a maximum value.\"\"\"\n",
    "        \"\"\" can be used directly as cv2.threshold \"\"\"\n",
    "        \"\"\"options can be \n",
    "            cv2.THRESH_BINARY\n",
    "            cv2.THRESH_BINARY_INV\n",
    "            cv2.THRESH_TRUNC\n",
    "            cv2.THRESH_TOZERO\n",
    "            cv2.THRESH_TOZERO_INV\n",
    "        \"\"\"\n",
    "        ret, thresh1 = cv2.threshold(self.image, 127, 255, cv2.THRESH_BINARY)\n",
    "        cv2.imwrite(os.path.join(\"simple_thres.jpg\"), thresh1)\n",
    "\n",
    "    def adaptive_thres(self):\n",
    "        \"\"\"Should be used where  an image has different lighting conditions in different areas.algorithm determines\n",
    "        the threshold for a pixel based on a small region around it \"\"\"\n",
    "        \"\"\"Threshold can be calculated as given two methods:\n",
    "         1) cv2.ADAPTIVE_THRESH_MEAN_C: The threshold value is \n",
    "                the mean of the neighbourhood area minus the constant C.\n",
    "         2) cv2.ADAPTIVE_THRESH_GAUSSIAN_C:The threshold \n",
    "                value is a gaussian-weighted sum of the neighbourhood values minus the constant C.  \n",
    "        \"\"\"\n",
    "        img = cv2.medianBlur(self.image, 5)\n",
    "        th2 = cv2.adaptiveThreshold(img, 255, cv2.ADAPTIVE_THRESH_MEAN_C, cv2.THRESH_BINARY, 11, 2)\n",
    "        cv2.imwrite(os.path.join(\"adaptive_thres.jpg\"), th2)\n",
    "\n",
    "    def otsu_binarization(self):\n",
    "        \"\"\"Consider an image with only two distinct image values (bimodal image), where the histogram would only\n",
    "        consist of two peaks. A good threshold would be in the middle of those two values. Similarly, Otsu's method\n",
    "        determines an optimal global threshold value from the image histogram \"\"\"\n",
    "\n",
    "        # Otsu's thresholding after Gaussian filtering\n",
    "        blur = cv2.GaussianBlur(self.image, (5, 5), 0)\n",
    "        ret3, th3 = cv2.threshold(blur, 0, 255, cv2.THRESH_BINARY + cv2.THRESH_OTSU)\n",
    "        cv2.imwrite(os.path.join(\"otsu_binarized_thres.jpg\"), th3)\n"
   ]
  },
  {
   "cell_type": "code",
   "execution_count": null,
   "id": "2b3c8d36",
   "metadata": {},
   "outputs": [],
   "source": [
    "# image thresholding\n",
    "image_path_src = os.path.join(\"blue_cap.jpg\")\n",
    "thres_obj = Thresholding(image_path_src)\n",
    "thres_obj.simple_thres()\n",
    "thres_obj.adaptive_thres()\n",
    "thres_obj.otsu_binarization()"
   ]
  },
  {
   "cell_type": "code",
   "execution_count": 5,
   "id": "71f37866",
   "metadata": {},
   "outputs": [],
   "source": [
    "import matplotlib.pyplot as plt\n",
    "def plt_imshow(image):\n",
    "\t# convert the image frame BGR to RGB color space and display it\n",
    "\timage = cv2.cvtColor(image, cv2.COLOR_BGR2RGB)\n",
    "\tplt.imshow(image)\n",
    "\tplt.grid(False)\n",
    "\tplt.show()"
   ]
  },
  {
   "cell_type": "code",
   "execution_count": null,
   "id": "fd118b23",
   "metadata": {},
   "outputs": [],
   "source": [
    "image0 = cv2.imread(\"blue_cap.jpg\")\n",
    "image1 = cv2.imread(\"adaptive_thres.jpg\")\n",
    "image2 = cv2.imread(\"otsu_binarized_thres.jpg\")"
   ]
  },
  {
   "cell_type": "code",
   "execution_count": null,
   "id": "d244c2dd",
   "metadata": {},
   "outputs": [],
   "source": [
    "plt_imshow(image0)\n",
    "plt_imshow(image1)\n",
    "plt_imshow(image2)\n"
   ]
  },
  {
   "cell_type": "code",
   "execution_count": null,
   "id": "37010cb1",
   "metadata": {},
   "outputs": [],
   "source": []
  },
  {
   "cell_type": "code",
   "execution_count": null,
   "id": "086b1a0b",
   "metadata": {},
   "outputs": [],
   "source": []
  }
 ],
 "metadata": {
  "kernelspec": {
   "display_name": "Python 3",
   "language": "python",
   "name": "python3"
  },
  "language_info": {
   "codemirror_mode": {
    "name": "ipython",
    "version": 3
   },
   "file_extension": ".py",
   "mimetype": "text/x-python",
   "name": "python",
   "nbconvert_exporter": "python",
   "pygments_lexer": "ipython3",
   "version": "3.8.8"
  }
 },
 "nbformat": 4,
 "nbformat_minor": 5
}
