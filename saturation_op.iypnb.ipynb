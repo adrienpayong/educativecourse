{
 "cells": [
  {
   "cell_type": "code",
   "execution_count": null,
   "id": "ecd3ad8b",
   "metadata": {
    "collapsed": true
   },
   "outputs": [],
   "source": []
  },
  {
   "cell_type": "raw",
   "id": "08dbe12c",
   "metadata": {},
   "source": []
  },
  {
   "cell_type": "code",
   "execution_count": 2,
   "id": "a1a45c2c",
   "metadata": {},
   "outputs": [
    {
     "name": "stdout",
     "output_type": "stream",
     "text": [
      "cv2.add(x:'[250]' , y:'[50]') = '[[255]]'\n",
      "x:'[250]' + y:'[50]' = '[44]'\n"
     ]
    }
   ],
   "source": [
    "\"\"\"\n",
    "Example to show how saturation arithmetic work in OpenCV\n",
    "\"\"\"\n",
    "\n",
    "import numpy as np\n",
    "import cv2\n",
    "\n",
    "# There is a difference between OpenCV addition and Numpy addition.\n",
    "# OpenCV addition is a saturated operation while Numpy addition is a modulo operation.\n",
    "x = np.uint8([250])\n",
    "y = np.uint8([50])\n",
    "\n",
    "# OpenCV addition: values are clipped to ensure they never fall outside the range [0,255]\n",
    "# 250+50 = 300 => 255:\n",
    "result_opencv = cv2.add(x, y)\n",
    "print(\"cv2.add(x:'{}' , y:'{}') = '{}'\".format(x, y, result_opencv))\n",
    "\n",
    "# NumPy addition: values wrap around\n",
    "# 250+50 = 300 % 256 = 44:\n",
    "result_numpy = x + y\n",
    "print(\"x:'{}' + y:'{}' = '{}'\".format(x, y, result_numpy))\n"
   ]
  },
  {
   "cell_type": "code",
   "execution_count": null,
   "id": "e81a4125",
   "metadata": {},
   "outputs": [],
   "source": []
  }
 ],
 "metadata": {
  "kernelspec": {
   "display_name": "Python 3",
   "language": "python",
   "name": "python3"
  },
  "language_info": {
   "codemirror_mode": {
    "name": "ipython",
    "version": 3
   },
   "file_extension": ".py",
   "mimetype": "text/x-python",
   "name": "python",
   "nbconvert_exporter": "python",
   "pygments_lexer": "ipython3",
   "version": "3.8.8"
  }
 },
 "nbformat": 4,
 "nbformat_minor": 5
}
