{
  "nbformat": 4,
  "nbformat_minor": 0,
  "metadata": {
    "colab": {
      "name": "cosift.ipynb",
      "provenance": [],
      "collapsed_sections": [],
      "authorship_tag": "ABX9TyMzp9/dlE4Zgo/IDTMifsyU",
      "include_colab_link": true
    },
    "kernelspec": {
      "name": "python3",
      "display_name": "Python 3"
    },
    "language_info": {
      "name": "python"
    }
  },
  "cells": [
    {
      "cell_type": "markdown",
      "metadata": {
        "id": "view-in-github",
        "colab_type": "text"
      },
      "source": [
        "<a href=\"https://colab.research.google.com/github/adrienpayong/educativecourse/blob/main/cosift.ipynb\" target=\"_parent\"><img src=\"https://colab.research.google.com/assets/colab-badge.svg\" alt=\"Open In Colab\"/></a>"
      ]
    },
    {
      "cell_type": "code",
      "source": [
        "import cv2\n",
        "import os\n",
        "import matplotlib.pyplot as plt"
      ],
      "metadata": {
        "id": "4Nd_FYN6JD3K"
      },
      "execution_count": 2,
      "outputs": []
    },
    {
      "cell_type": "code",
      "execution_count": 11,
      "metadata": {
        "id": "8YeX1nr4Ht__"
      },
      "outputs": [],
      "source": [
        "class SIFT:\n",
        "    def __init__(self, path):\n",
        "        self.image_path = path\n",
        "        self.image = cv2.imread(self.image_path)\n",
        "\n",
        "    def drawKeypoints(self):\n",
        "        gray = cv2.cvtColor(self.image, cv2.COLOR_BGR2GRAY)## covert the color from BGR to GRAY\n",
        "        sift = cv2.SIFT_create() ## Create SIFT SIFT_create()\n",
        "        kp = sift.detect(gray, None) ## sift detection\n",
        "        ## draw the keypoint using .drawKeypoints() function\n",
        "        ## gray is the source image, kp is the keypoints from the source image and \"self.image\" is the output image\n",
        "        img = cv2.drawKeypoints(gray, kp, self.image) \n",
        "        cv2.imwrite(os.path.join(\"siftpoints.jpg\"), img)\n",
        "\n",
        "    def match(self, image_src, image_dest):\n",
        "        image1 = cv2.imread(image_src)\n",
        "        image2 = cv2.imread(image_dest)\n",
        "\n",
        "        # convert images to grayscale\n",
        "        image1 = cv2.cvtColor(image1, cv2.COLOR_BGR2GRAY)\n",
        "        image2 = cv2.cvtColor(image2, cv2.COLOR_BGR2GRAY)\n",
        "\n",
        "        # create SIFT object\n",
        "        sift = cv2.xfeatures2d.SIFT_create()\n",
        "        # detect SIFT features in both images\n",
        "        # keypoints1 and keypoints2 are keypoints, descriptors1 and escriptors2 are the descriptors\n",
        "        keypoints1, descriptors1 = sift.detectAndCompute(image1, None)\n",
        "        keypoints2, descriptors2 = sift.detectAndCompute(image2, None)\n",
        "\n",
        "        # create feature matcher \n",
        "        # cv2.BFMatcher() accepts two optional parameters.\n",
        "        #The first is normType.\n",
        "        #It indicates the distance to be measured.\n",
        "        #It is set to cv2.NORM L2 by default. \n",
        "        # If true, Matcher delivers just those matches with value (i,j) such that the i-th descriptor in set A has the best match with the j-th descriptor in set B, and vice versa.\n",
        "        bf = cv2.BFMatcher(cv2.NORM_L1, crossCheck=True)\n",
        "\n",
        "        # match descriptors of both images with bf we have created above\n",
        "        # bf.match() function returns the best match.\n",
        "        matchesdes = bf.match(descriptors1, descriptors2)\n",
        "        ## sort descriptor by distance\n",
        "        matchesdes = sorted(matchesdes, key=lambda x: x.distance)\n",
        "        # draw first 50 matches\n",
        "        #  cv2.drawMatches() helps us to draw the matches.\n",
        "        # It stacks two images horizontally and draws lines from the first to the second image indicating the best matches. \n",
        "        matched_img = cv2.drawMatches(image1, keypoints1, image2, keypoints2, matchesdes[:50], image2, flags=2)\n",
        "        # save the image\n",
        "        cv2.imwrite(os.path.join(\"matched_imaged.jpg\"), matched_img)"
      ]
    },
    {
      "cell_type": "code",
      "source": [
        "# # sift feature detection\n",
        "image_path_src = os.path.join(\"test.jpg\")\n",
        "sift_obj = SIFT(image_path_src)\n",
        "sift_obj.drawKeypoints()\n",
        "sift_obj.match(image_path_src, image_path_src)"
      ],
      "metadata": {
        "id": "LDVI3lRwuGPK"
      },
      "execution_count": null,
      "outputs": []
    },
    {
      "cell_type": "code",
      "source": [
        "## Function plt_imshow() to display the image\n",
        "def plt_imshow(title, image):\n",
        "\t# convert the image frame BGR to RGB color space and display it\n",
        "\timage = cv2.cvtColor(image, cv2.COLOR_BGR2RGB)\n",
        "\tplt.imshow(image)\n",
        "\tplt.title(title)\n",
        "\tplt.grid(False)\n",
        "\tplt.show()"
      ],
      "metadata": {
        "id": "ACCm0ihVH4Pe"
      },
      "execution_count": 13,
      "outputs": []
    },
    {
      "cell_type": "code",
      "source": [
        "## Read all the images\n",
        "image0 = cv2.imread(\"test.jpg\")\n",
        "image1 = cv2.imread(\"siftpoints.jpg\")\n",
        "image2 = cv2.imread(\"matched_imaged.jpg\")"
      ],
      "metadata": {
        "id": "TOXNIQmPIEv5"
      },
      "execution_count": 14,
      "outputs": []
    },
    {
      "cell_type": "code",
      "source": [
        "## plot the images by calling the plt_imshow()\n",
        "plt_imshow(\"original image\",image0)\n",
        "plt_imshow(\"sift image\",image1)\n",
        "plt_imshow(\"matched image\",image2)"
      ],
      "metadata": {
        "id": "PlBv3YQpuJiA"
      },
      "execution_count": null,
      "outputs": []
    },
    {
      "cell_type": "code",
      "source": [
        ""
      ],
      "metadata": {
        "id": "FALUsKqa3Axh"
      },
      "execution_count": null,
      "outputs": []
    }
  ]
}