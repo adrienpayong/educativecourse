{
 "cells": [
  {
   "cell_type": "code",
   "execution_count": 1,
   "id": "c1dcb359",
   "metadata": {},
   "outputs": [],
   "source": [
    "import cv2\n",
    "import os\n",
    "\n",
    "\n",
    "class VideoAnalytics:\n",
    "    def __init__(self, video_path):\n",
    "        self.video_path = video_path\n",
    "\n",
    "    def process(self):\n",
    "        \"\"\"\n",
    "        Videocapture takes an video path to be read,\n",
    "        if we give 0 as an argument, we can directly feed camera input\n",
    "        \"\"\"\n",
    "        cam = cv2.VideoCapture(self.video_path)\n",
    "        basepath = os.path.join('data')\n",
    "        try:\n",
    "            if not os.path.exists(basepath):\n",
    "                os.makedirs(basepath)\n",
    "        except OSError:\n",
    "            print('Error: Creating directory of data')\n",
    "\n",
    "        currentframe = 0\n",
    "        while True:\n",
    "            # reading one frame at a time,and checkig if ret is True, if False,brak the loop as there are no frame now\n",
    "            ret, frame = cam.read()\n",
    "            if ret:\n",
    "                name = os.path.join(basepath, 'frame' + str(currentframe) + '.jpg')\n",
    "                print('Creating...' + name)\n",
    "                cv2.imwrite(name, frame)\n",
    "                currentframe += 1\n",
    "            else:\n",
    "                break\n",
    "\n",
    "        cam.release()\n",
    "        cv2.destroyAllWindows()"
   ]
  },
  {
   "cell_type": "code",
   "execution_count": 2,
   "id": "c158992d",
   "metadata": {},
   "outputs": [],
   "source": [
    "# video processing\n",
    "video_path = os.path.join(\"test_video.mp4\")\n",
    "video_obj = VideoAnalytics(video_path)\n",
    "video_obj.process()"
   ]
  },
  {
   "cell_type": "code",
   "execution_count": null,
   "id": "5991b8df",
   "metadata": {},
   "outputs": [],
   "source": []
  }
 ],
 "metadata": {
  "kernelspec": {
   "display_name": "Python 3",
   "language": "python",
   "name": "python3"
  },
  "language_info": {
   "codemirror_mode": {
    "name": "ipython",
    "version": 3
   },
   "file_extension": ".py",
   "mimetype": "text/x-python",
   "name": "python",
   "nbconvert_exporter": "python",
   "pygments_lexer": "ipython3",
   "version": "3.8.8"
  }
 },
 "nbformat": 4,
 "nbformat_minor": 5
}
